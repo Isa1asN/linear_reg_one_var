{
 "cells": [
  {
   "cell_type": "markdown",
   "metadata": {},
   "source": [
    "<h2>A simple linear regression model with single variable</h2>"
   ]
  },
  {
   "cell_type": "markdown",
   "metadata": {},
   "source": [
    "<p>Implemented from scratch for predicting the price of house hold land given its area in square Feet.</p>"
   ]
  },
  {
   "cell_type": "code",
   "execution_count": 3,
   "metadata": {},
   "outputs": [],
   "source": [
    "import numpy as np\n",
    "import math, copy\n",
    "import matplotlib.pyplot as plt"
   ]
  },
  {
   "cell_type": "code",
   "execution_count": 78,
   "metadata": {},
   "outputs": [],
   "source": [
    "\n",
    "x_train = np.array([1, 2])\n",
    "y_train = np.array([300, 500])\n",
    "# the price is in thousands Dollar and the area in thousands sq ft"
   ]
  },
  {
   "cell_type": "code",
   "execution_count": 79,
   "metadata": {},
   "outputs": [],
   "source": [
    "# Cost calculator (square error cost)\n",
    "def compute_cost(x, y, w, b):\n",
    "    f_wb = np.array([(w * i + b) for i in x])\n",
    "    cost = 0\n",
    "    m = len(x)\n",
    "    for j in range(m):\n",
    "        err = (y[j] - f_wb[j]) ** 2\n",
    "        cost += err\n",
    "    return cost / (2 * m)"
   ]
  },
  {
   "cell_type": "code",
   "execution_count": 80,
   "metadata": {},
   "outputs": [
    {
     "name": "stdout",
     "output_type": "stream",
     "text": [
      "0.0\n"
     ]
    }
   ],
   "source": [
    "print(compute_cost(x_train, y_train, 200, 100))"
   ]
  },
  {
   "cell_type": "code",
   "execution_count": 81,
   "metadata": {},
   "outputs": [],
   "source": [
    "# gradient calculator (from scratch)\n",
    "def compute_gradient(x, y, w, b):\n",
    "    m = len(x)\n",
    "    dj_dw = 0\n",
    "    dj_db = 0\n",
    "    for i in range(m):\n",
    "        f_wb = w * x[i] + b\n",
    "        dj_dw += ((f_wb - y[i]) * x[i]) / m \n",
    "        dj_db += ((f_wb - y[i])) / m\n",
    "    return dj_dw, dj_db\n",
    "\n"
   ]
  },
  {
   "cell_type": "code",
   "execution_count": 82,
   "metadata": {},
   "outputs": [],
   "source": [
    "# gradient descent (from scratch)\n",
    "def gradient_descent(x, y, w, b, alpha, num_iter, gradient_function):\n",
    "    for i in range(num_iter):\n",
    "        w = w - alpha * gradient_function(x, y, w, b)[0]\n",
    "        b = b - alpha * gradient_function(x, y, w, b)[1]\n",
    "    return w, b"
   ]
  },
  {
   "cell_type": "code",
   "execution_count": 89,
   "metadata": {},
   "outputs": [
    {
     "name": "stdout",
     "output_type": "stream",
     "text": [
      "55.90455192679827 33.543621020832916\n",
      "1000 sqft house prediction 89.4 Thousand dollars\n",
      "1200 sqft house prediction 100.6 Thousand dollars\n",
      "2000 sqft house prediction 145.4 Thousand dollars\n"
     ]
    }
   ],
   "source": [
    "# predictions\n",
    "w_in, b_in = 0, 0\n",
    "iter = 10\n",
    "alpha = 1.0e-2\n",
    "w_final, b_final = gradient_descent(x_train, y_train, w_in, b_in, alpha, iter, compute_gradient)\n",
    "print(w_final, b_final)\n",
    "\n",
    "print(f\"1000 sqft house prediction {w_final*1.0 + b_final:0.1f} Thousand dollars\")\n",
    "print(f\"1200 sqft house prediction {w_final*1.2 + b_final:0.1f} Thousand dollars\")\n",
    "print(f\"2000 sqft house prediction {w_final*2.0 + b_final:0.1f} Thousand dollars\")"
   ]
  },
  {
   "cell_type": "code",
   "execution_count": null,
   "metadata": {},
   "outputs": [],
   "source": []
  }
 ],
 "metadata": {
  "kernelspec": {
   "display_name": "Python 3",
   "language": "python",
   "name": "python3"
  },
  "language_info": {
   "codemirror_mode": {
    "name": "ipython",
    "version": 3
   },
   "file_extension": ".py",
   "mimetype": "text/x-python",
   "name": "python",
   "nbconvert_exporter": "python",
   "pygments_lexer": "ipython3",
   "version": "3.10.0"
  },
  "orig_nbformat": 4
 },
 "nbformat": 4,
 "nbformat_minor": 2
}
